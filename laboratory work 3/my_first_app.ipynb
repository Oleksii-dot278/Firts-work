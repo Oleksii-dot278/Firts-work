{
 "cells": [
  {
   "cell_type": "code",
   "execution_count": 6,
   "id": "a2294b75",
   "metadata": {},
   "outputs": [
    {
     "name": "stdout",
     "output_type": "stream",
     "text": [
      "Oleksii start programming at 2025-09-29 16:44:43.278792. Poznań is the best city!\n"
     ]
    }
   ],
   "source": [
    "from datetime import datetime\n",
    "name = \"Oleksii\"\n",
    "location = \"Poznań\"\n",
    "\n",
    "print(f\"{name} start programming at {datetime.now()}. {location} is the best city!\")"
   ]
  },
  {
   "cell_type": "markdown",
   "id": "01ea5490",
   "metadata": {},
   "source": [
    "Це є моя перша програма, в якій я напишу свій код.\n",
    "Цей код не схожий на інші\n",
    "\n",
    "\n",
    "Я це докажу"
   ]
  }
 ],
 "metadata": {
  "kernelspec": {
   "display_name": "Python 3",
   "language": "python",
   "name": "python3"
  },
  "language_info": {
   "codemirror_mode": {
    "name": "ipython",
    "version": 3
   },
   "file_extension": ".py",
   "mimetype": "text/x-python",
   "name": "python",
   "nbconvert_exporter": "python",
   "pygments_lexer": "ipython3",
   "version": "3.13.7"
  }
 },
 "nbformat": 4,
 "nbformat_minor": 5
}
